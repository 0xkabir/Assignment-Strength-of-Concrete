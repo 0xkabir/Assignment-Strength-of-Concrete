{
 "cells": [
  {
   "cell_type": "code",
   "execution_count": 1,
   "id": "9f3e696c",
   "metadata": {},
   "outputs": [],
   "source": [
    "import pandas as pd\n",
    "from sklearn.model_selection import train_test_split\n",
    "from sklearn.linear_model import LinearRegression, Lasso, Ridge\n",
    "from sklearn.preprocessing import MinMaxScaler, StandardScaler, PolynomialFeatures\n",
    "from sklearn.metrics import mean_squared_error\n",
    "\n",
    "import warnings as wr\n",
    "wr.filterwarnings('ignore')"
   ]
  },
  {
   "cell_type": "code",
   "execution_count": 2,
   "id": "457a5e1d",
   "metadata": {},
   "outputs": [
    {
     "data": {
      "text/html": [
       "<div>\n",
       "<style scoped>\n",
       "    .dataframe tbody tr th:only-of-type {\n",
       "        vertical-align: middle;\n",
       "    }\n",
       "\n",
       "    .dataframe tbody tr th {\n",
       "        vertical-align: top;\n",
       "    }\n",
       "\n",
       "    .dataframe thead th {\n",
       "        text-align: right;\n",
       "    }\n",
       "</style>\n",
       "<table border=\"1\" class=\"dataframe\">\n",
       "  <thead>\n",
       "    <tr style=\"text-align: right;\">\n",
       "      <th></th>\n",
       "      <th>Cement</th>\n",
       "      <th>Blast Furnace Slag</th>\n",
       "      <th>Fly Ash</th>\n",
       "      <th>Water</th>\n",
       "      <th>Superplasticizer</th>\n",
       "      <th>Coarse Aggregate</th>\n",
       "      <th>Fine Aggregate</th>\n",
       "      <th>Age</th>\n",
       "      <th>Strength</th>\n",
       "    </tr>\n",
       "  </thead>\n",
       "  <tbody>\n",
       "    <tr>\n",
       "      <th>0</th>\n",
       "      <td>540.0</td>\n",
       "      <td>0.0</td>\n",
       "      <td>0.0</td>\n",
       "      <td>162.0</td>\n",
       "      <td>2.5</td>\n",
       "      <td>1040.0</td>\n",
       "      <td>676.0</td>\n",
       "      <td>28</td>\n",
       "      <td>79.99</td>\n",
       "    </tr>\n",
       "    <tr>\n",
       "      <th>1</th>\n",
       "      <td>540.0</td>\n",
       "      <td>0.0</td>\n",
       "      <td>0.0</td>\n",
       "      <td>162.0</td>\n",
       "      <td>2.5</td>\n",
       "      <td>1055.0</td>\n",
       "      <td>676.0</td>\n",
       "      <td>28</td>\n",
       "      <td>61.89</td>\n",
       "    </tr>\n",
       "    <tr>\n",
       "      <th>2</th>\n",
       "      <td>332.5</td>\n",
       "      <td>142.5</td>\n",
       "      <td>0.0</td>\n",
       "      <td>228.0</td>\n",
       "      <td>0.0</td>\n",
       "      <td>932.0</td>\n",
       "      <td>594.0</td>\n",
       "      <td>270</td>\n",
       "      <td>40.27</td>\n",
       "    </tr>\n",
       "    <tr>\n",
       "      <th>3</th>\n",
       "      <td>332.5</td>\n",
       "      <td>142.5</td>\n",
       "      <td>0.0</td>\n",
       "      <td>228.0</td>\n",
       "      <td>0.0</td>\n",
       "      <td>932.0</td>\n",
       "      <td>594.0</td>\n",
       "      <td>365</td>\n",
       "      <td>41.05</td>\n",
       "    </tr>\n",
       "    <tr>\n",
       "      <th>4</th>\n",
       "      <td>198.6</td>\n",
       "      <td>132.4</td>\n",
       "      <td>0.0</td>\n",
       "      <td>192.0</td>\n",
       "      <td>0.0</td>\n",
       "      <td>978.4</td>\n",
       "      <td>825.5</td>\n",
       "      <td>360</td>\n",
       "      <td>44.30</td>\n",
       "    </tr>\n",
       "  </tbody>\n",
       "</table>\n",
       "</div>"
      ],
      "text/plain": [
       "   Cement  Blast Furnace Slag  Fly Ash  Water  Superplasticizer  \\\n",
       "0   540.0                 0.0      0.0  162.0               2.5   \n",
       "1   540.0                 0.0      0.0  162.0               2.5   \n",
       "2   332.5               142.5      0.0  228.0               0.0   \n",
       "3   332.5               142.5      0.0  228.0               0.0   \n",
       "4   198.6               132.4      0.0  192.0               0.0   \n",
       "\n",
       "   Coarse Aggregate  Fine Aggregate  Age  Strength  \n",
       "0            1040.0           676.0   28     79.99  \n",
       "1            1055.0           676.0   28     61.89  \n",
       "2             932.0           594.0  270     40.27  \n",
       "3             932.0           594.0  365     41.05  \n",
       "4             978.4           825.5  360     44.30  "
      ]
     },
     "execution_count": 2,
     "metadata": {},
     "output_type": "execute_result"
    }
   ],
   "source": [
    "df = pd.read_csv('concrete_data.csv')\n",
    "df.head()"
   ]
  },
  {
   "cell_type": "code",
   "execution_count": 3,
   "id": "1f7c4245",
   "metadata": {},
   "outputs": [
    {
     "data": {
      "text/html": [
       "<div>\n",
       "<style scoped>\n",
       "    .dataframe tbody tr th:only-of-type {\n",
       "        vertical-align: middle;\n",
       "    }\n",
       "\n",
       "    .dataframe tbody tr th {\n",
       "        vertical-align: top;\n",
       "    }\n",
       "\n",
       "    .dataframe thead th {\n",
       "        text-align: right;\n",
       "    }\n",
       "</style>\n",
       "<table border=\"1\" class=\"dataframe\">\n",
       "  <thead>\n",
       "    <tr style=\"text-align: right;\">\n",
       "      <th></th>\n",
       "      <th>Cement</th>\n",
       "      <th>Blast Furnace Slag</th>\n",
       "      <th>Fly Ash</th>\n",
       "      <th>Water</th>\n",
       "      <th>Superplasticizer</th>\n",
       "      <th>Coarse Aggregate</th>\n",
       "      <th>Fine Aggregate</th>\n",
       "      <th>Age</th>\n",
       "      <th>Strength</th>\n",
       "    </tr>\n",
       "  </thead>\n",
       "  <tbody>\n",
       "    <tr>\n",
       "      <th>Cement</th>\n",
       "      <td>1.000000</td>\n",
       "      <td>-0.275216</td>\n",
       "      <td>-0.397467</td>\n",
       "      <td>-0.081587</td>\n",
       "      <td>0.092386</td>\n",
       "      <td>-0.109349</td>\n",
       "      <td>-0.222718</td>\n",
       "      <td>0.081946</td>\n",
       "      <td>0.497832</td>\n",
       "    </tr>\n",
       "    <tr>\n",
       "      <th>Blast Furnace Slag</th>\n",
       "      <td>-0.275216</td>\n",
       "      <td>1.000000</td>\n",
       "      <td>-0.323580</td>\n",
       "      <td>0.107252</td>\n",
       "      <td>0.043270</td>\n",
       "      <td>-0.283999</td>\n",
       "      <td>-0.281603</td>\n",
       "      <td>-0.044246</td>\n",
       "      <td>0.134829</td>\n",
       "    </tr>\n",
       "    <tr>\n",
       "      <th>Fly Ash</th>\n",
       "      <td>-0.397467</td>\n",
       "      <td>-0.323580</td>\n",
       "      <td>1.000000</td>\n",
       "      <td>-0.256984</td>\n",
       "      <td>0.377503</td>\n",
       "      <td>-0.009961</td>\n",
       "      <td>0.079108</td>\n",
       "      <td>-0.154371</td>\n",
       "      <td>-0.105755</td>\n",
       "    </tr>\n",
       "    <tr>\n",
       "      <th>Water</th>\n",
       "      <td>-0.081587</td>\n",
       "      <td>0.107252</td>\n",
       "      <td>-0.256984</td>\n",
       "      <td>1.000000</td>\n",
       "      <td>-0.657533</td>\n",
       "      <td>-0.182294</td>\n",
       "      <td>-0.450661</td>\n",
       "      <td>0.277618</td>\n",
       "      <td>-0.289633</td>\n",
       "    </tr>\n",
       "    <tr>\n",
       "      <th>Superplasticizer</th>\n",
       "      <td>0.092386</td>\n",
       "      <td>0.043270</td>\n",
       "      <td>0.377503</td>\n",
       "      <td>-0.657533</td>\n",
       "      <td>1.000000</td>\n",
       "      <td>-0.265999</td>\n",
       "      <td>0.222691</td>\n",
       "      <td>-0.192700</td>\n",
       "      <td>0.366079</td>\n",
       "    </tr>\n",
       "    <tr>\n",
       "      <th>Coarse Aggregate</th>\n",
       "      <td>-0.109349</td>\n",
       "      <td>-0.283999</td>\n",
       "      <td>-0.009961</td>\n",
       "      <td>-0.182294</td>\n",
       "      <td>-0.265999</td>\n",
       "      <td>1.000000</td>\n",
       "      <td>-0.178481</td>\n",
       "      <td>-0.003016</td>\n",
       "      <td>-0.164935</td>\n",
       "    </tr>\n",
       "    <tr>\n",
       "      <th>Fine Aggregate</th>\n",
       "      <td>-0.222718</td>\n",
       "      <td>-0.281603</td>\n",
       "      <td>0.079108</td>\n",
       "      <td>-0.450661</td>\n",
       "      <td>0.222691</td>\n",
       "      <td>-0.178481</td>\n",
       "      <td>1.000000</td>\n",
       "      <td>-0.156095</td>\n",
       "      <td>-0.167241</td>\n",
       "    </tr>\n",
       "    <tr>\n",
       "      <th>Age</th>\n",
       "      <td>0.081946</td>\n",
       "      <td>-0.044246</td>\n",
       "      <td>-0.154371</td>\n",
       "      <td>0.277618</td>\n",
       "      <td>-0.192700</td>\n",
       "      <td>-0.003016</td>\n",
       "      <td>-0.156095</td>\n",
       "      <td>1.000000</td>\n",
       "      <td>0.328873</td>\n",
       "    </tr>\n",
       "    <tr>\n",
       "      <th>Strength</th>\n",
       "      <td>0.497832</td>\n",
       "      <td>0.134829</td>\n",
       "      <td>-0.105755</td>\n",
       "      <td>-0.289633</td>\n",
       "      <td>0.366079</td>\n",
       "      <td>-0.164935</td>\n",
       "      <td>-0.167241</td>\n",
       "      <td>0.328873</td>\n",
       "      <td>1.000000</td>\n",
       "    </tr>\n",
       "  </tbody>\n",
       "</table>\n",
       "</div>"
      ],
      "text/plain": [
       "                      Cement  Blast Furnace Slag   Fly Ash     Water  \\\n",
       "Cement              1.000000           -0.275216 -0.397467 -0.081587   \n",
       "Blast Furnace Slag -0.275216            1.000000 -0.323580  0.107252   \n",
       "Fly Ash            -0.397467           -0.323580  1.000000 -0.256984   \n",
       "Water              -0.081587            0.107252 -0.256984  1.000000   \n",
       "Superplasticizer    0.092386            0.043270  0.377503 -0.657533   \n",
       "Coarse Aggregate   -0.109349           -0.283999 -0.009961 -0.182294   \n",
       "Fine Aggregate     -0.222718           -0.281603  0.079108 -0.450661   \n",
       "Age                 0.081946           -0.044246 -0.154371  0.277618   \n",
       "Strength            0.497832            0.134829 -0.105755 -0.289633   \n",
       "\n",
       "                    Superplasticizer  Coarse Aggregate  Fine Aggregate  \\\n",
       "Cement                      0.092386         -0.109349       -0.222718   \n",
       "Blast Furnace Slag          0.043270         -0.283999       -0.281603   \n",
       "Fly Ash                     0.377503         -0.009961        0.079108   \n",
       "Water                      -0.657533         -0.182294       -0.450661   \n",
       "Superplasticizer            1.000000         -0.265999        0.222691   \n",
       "Coarse Aggregate           -0.265999          1.000000       -0.178481   \n",
       "Fine Aggregate              0.222691         -0.178481        1.000000   \n",
       "Age                        -0.192700         -0.003016       -0.156095   \n",
       "Strength                    0.366079         -0.164935       -0.167241   \n",
       "\n",
       "                         Age  Strength  \n",
       "Cement              0.081946  0.497832  \n",
       "Blast Furnace Slag -0.044246  0.134829  \n",
       "Fly Ash            -0.154371 -0.105755  \n",
       "Water               0.277618 -0.289633  \n",
       "Superplasticizer   -0.192700  0.366079  \n",
       "Coarse Aggregate   -0.003016 -0.164935  \n",
       "Fine Aggregate     -0.156095 -0.167241  \n",
       "Age                 1.000000  0.328873  \n",
       "Strength            0.328873  1.000000  "
      ]
     },
     "execution_count": 3,
     "metadata": {},
     "output_type": "execute_result"
    }
   ],
   "source": [
    "df.corr()"
   ]
  },
  {
   "cell_type": "code",
   "execution_count": 4,
   "id": "999298eb",
   "metadata": {},
   "outputs": [],
   "source": [
    "x_train, x_test, y_train, y_test = train_test_split(df[['Cement', 'Blast Furnace Slag', 'Fly Ash', 'Water', 'Superplasticizer',\n",
    "       'Coarse Aggregate', 'Fine Aggregate', 'Age']], df['Strength'], test_size=0.3, random_state=138)"
   ]
  },
  {
   "cell_type": "markdown",
   "id": "48600d82",
   "metadata": {},
   "source": [
    "## Simple Linear Regression"
   ]
  },
  {
   "cell_type": "code",
   "execution_count": 5,
   "id": "26f60dce",
   "metadata": {},
   "outputs": [
    {
     "name": "stdout",
     "output_type": "stream",
     "text": [
      "mse with linear regression: 121.70082059087312\n",
      "acccuracy: 58.56%\n"
     ]
    }
   ],
   "source": [
    "linear_reg_model = LinearRegression()\n",
    "linear_reg_model.fit(x_train, y_train)\n",
    "y_pred_lr = linear_reg_model.predict(x_test)\n",
    "mse_lr = mean_squared_error(y_test, y_pred_lr)\n",
    "accuracy_lr = linear_reg_model.score(x_test, y_test)\n",
    "print(f\"mse with linear regression: {mse_lr}\\nacccuracy: {round(accuracy_lr*100, 2)}%\")"
   ]
  },
  {
   "cell_type": "markdown",
   "id": "619cc3b3",
   "metadata": {},
   "source": [
    "## Polynomial Regression\n",
    "Performing Cross Validation to check the <strong><i>Optimal Degree</i></strong> for the PolynomialFeature"
   ]
  },
  {
   "cell_type": "code",
   "execution_count": 6,
   "id": "a34df9ba",
   "metadata": {},
   "outputs": [
    {
     "name": "stdout",
     "output_type": "stream",
     "text": [
      "0.7806916615339661\n",
      "0.8995281199227331\n",
      "-19.466564691675078\n",
      "-42911834.114884384\n"
     ]
    },
    {
     "data": {
      "text/plain": [
       "[64.41260912389235, 29.50939296073279, 6011.193376479391, 12603548416.705826]"
      ]
     },
     "execution_count": 6,
     "metadata": {},
     "output_type": "execute_result"
    }
   ],
   "source": [
    "poly_mses = []\n",
    "poly_degs = range(2,6)\n",
    "\n",
    "for deg in poly_degs:\n",
    "    poly_reg = LinearRegression()\n",
    "    poly = PolynomialFeatures(degree=deg)\n",
    "    x_train_poly = poly.fit_transform(x_train)\n",
    "    x_test_poly = poly.fit_transform(x_test)\n",
    "    poly_reg.fit(x_train_poly, y_train)\n",
    "    y_pred_poly = poly_reg.predict(x_test_poly)\n",
    "    print(poly_reg.score(x_test_poly, y_test))\n",
    "    poly_mse = mean_squared_error(y_test, y_pred_poly)\n",
    "    poly_mses.append(poly_mse)\n",
    "\n",
    "poly_mses"
   ]
  },
  {
   "cell_type": "markdown",
   "id": "165151d6",
   "metadata": {},
   "source": [
    "<strong> Degree 3 is optimal for this dataset</strong><br/>\n",
    "### Polynomial Regression with Degree 3"
   ]
  },
  {
   "cell_type": "code",
   "execution_count": 7,
   "id": "579c5bdb",
   "metadata": {},
   "outputs": [
    {
     "name": "stdout",
     "output_type": "stream",
     "text": [
      "mse with polynomial regression: 29.50939296073279\n",
      "accuracy: 89.95%\n"
     ]
    }
   ],
   "source": [
    "poly_reg = LinearRegression()\n",
    "poly_features = PolynomialFeatures(degree=3)\n",
    "x_train_poly = poly_features.fit_transform(x_train)\n",
    "x_test_poly = poly_features.fit_transform(x_test)\n",
    "poly_reg.fit(x_train_poly, y_train)\n",
    "y_pred_poly = poly_reg.predict(x_test_poly)\n",
    "\n",
    "mse_poly = mean_squared_error(y_test, y_pred_poly)\n",
    "accuracy_poly = poly_reg.score(x_test_poly, y_test)\n",
    "print(f\"mse with polynomial regression: {mse_poly}\\naccuracy: {round(accuracy_poly*100, 2)}%\")"
   ]
  },
  {
   "cell_type": "markdown",
   "id": "46e69b2d",
   "metadata": {},
   "source": [
    "## Linear Regression with Regularization (Lasso & Ridge)\n",
    "### Lasso Regression"
   ]
  },
  {
   "cell_type": "code",
   "execution_count": 8,
   "id": "0c7dc025",
   "metadata": {},
   "outputs": [
    {
     "name": "stdout",
     "output_type": "stream",
     "text": [
      "mse with lasso regression: 121.75262768287445\n",
      "accuracy: 58.55%\n"
     ]
    }
   ],
   "source": [
    "lasso_reg = Lasso(alpha=0.1)\n",
    "lasso_reg.fit(x_train, y_train)\n",
    "y_pred_lasso = lasso_reg.predict(x_test)\n",
    "mse_lasso = mean_squared_error(y_test, y_pred_lasso)\n",
    "accuracy_lasso = lasso_reg.score(x_test, y_test)\n",
    "print(f\"mse with lasso regression: {mse_lasso}\\naccuracy: {round(accuracy_lasso*100, 2)}%\")"
   ]
  },
  {
   "cell_type": "markdown",
   "id": "fcb06e47",
   "metadata": {},
   "source": [
    "### Ridge Regression"
   ]
  },
  {
   "cell_type": "code",
   "execution_count": 9,
   "id": "e6ce6afe",
   "metadata": {},
   "outputs": [
    {
     "name": "stdout",
     "output_type": "stream",
     "text": [
      "mse with ridge regression: 121.70083374857936\n",
      "accuracy: 58.56%\n"
     ]
    }
   ],
   "source": [
    "ridge_reg = Ridge(alpha=0.1)\n",
    "ridge_reg.fit(x_train, y_train)\n",
    "y_pred_ridge = ridge_reg.predict(x_test)\n",
    "mse_ridge = mean_squared_error(y_test, y_pred_ridge)\n",
    "accuracy_ridge = ridge_reg.score(x_test, y_test)\n",
    "print(f\"mse with ridge regression: {mse_ridge}\\naccuracy: {round(accuracy_ridge*100, 2)}%\")"
   ]
  },
  {
   "cell_type": "markdown",
   "id": "070bfdb8",
   "metadata": {},
   "source": [
    "## Polyomial Regression with Regularization (Lasso & Ridge)\n",
    "### Polynomial Lasso Regression (Degree 3)"
   ]
  },
  {
   "cell_type": "code",
   "execution_count": 10,
   "id": "52962ef8",
   "metadata": {},
   "outputs": [
    {
     "name": "stdout",
     "output_type": "stream",
     "text": [
      "mse with polynomial lasso regression: 37.69210719380275\n",
      "accuracy: 87.17%\n"
     ]
    }
   ],
   "source": [
    "lasso_2 = Lasso(alpha=0.1)\n",
    "lasso_2.fit(x_train_poly, y_train)\n",
    "y_pred_lasso_2 = lasso_2.predict(x_test_poly)\n",
    "mse_lasso_2 = mean_squared_error(y_test, y_pred_lasso_2)\n",
    "accuracy_lasso_2 = lasso_2.score(x_test_poly, y_test)\n",
    "print(f\"mse with polynomial lasso regression: {mse_lasso_2}\\naccuracy: {round(accuracy_lasso_2*100, 2)}%\")"
   ]
  },
  {
   "cell_type": "markdown",
   "id": "d9114ebe",
   "metadata": {},
   "source": [
    "### Polynomial Ridge Regression (Degree 3)"
   ]
  },
  {
   "cell_type": "code",
   "execution_count": 11,
   "id": "df629e30",
   "metadata": {},
   "outputs": [
    {
     "name": "stdout",
     "output_type": "stream",
     "text": [
      "mse with polynomial ridge regression: 29.540878700828472\n",
      "accuracy: 89.94%\n"
     ]
    }
   ],
   "source": [
    "ridge_2 = Ridge(alpha=0.1)\n",
    "ridge_2.fit(x_train_poly, y_train)\n",
    "y_pred_ridge_2 = ridge_2.predict(x_test_poly)\n",
    "mse_ridge_2 = mean_squared_error(y_test, y_pred_ridge_2)\n",
    "accuracy_ridge_2 = ridge_2.score(x_test_poly, y_test)\n",
    "print(f\"mse with polynomial ridge regression: {mse_ridge_2}\\naccuracy: {round(accuracy_ridge_2*100, 2)}%\")"
   ]
  },
  {
   "cell_type": "markdown",
   "id": "5d755dae",
   "metadata": {},
   "source": [
    "## Polynomial Rgression with Regularization and Scaling\n",
    "### Polynomial Lasso Regression with Normalization (Degree 3)"
   ]
  },
  {
   "cell_type": "code",
   "execution_count": 12,
   "id": "7cef8e6e",
   "metadata": {},
   "outputs": [
    {
     "name": "stdout",
     "output_type": "stream",
     "text": [
      "mse with polynomial lasso regression and normalization: 99.9671987979908\n",
      "accuracy: 65.96%\n"
     ]
    }
   ],
   "source": [
    "norm_scaler = MinMaxScaler()\n",
    "x_train_norm, x_test_norm = norm_scaler.fit_transform(x_train), norm_scaler.fit_transform(x_test)\n",
    "xtrain_norm_poly, xtest_norm_poly = poly.fit_transform(x_train_norm), poly.fit_transform(x_test_norm)\n",
    "\n",
    "lasso_3 = Lasso(alpha=0.1)\n",
    "lasso_3.fit(xtrain_norm_poly, y_train)\n",
    "y_pred_lasso_3 = lasso_3.predict(xtest_norm_poly)\n",
    "mse_lasso_3 = mean_squared_error(y_test, y_pred_lasso_3)\n",
    "accuracy_lasso_3 = lasso_3.score(xtest_norm_poly, y_test)\n",
    "print(f\"mse with polynomial lasso regression and normalization: {mse_lasso_3}\\naccuracy: {round(accuracy_lasso_3*100, 2)}%\")"
   ]
  },
  {
   "cell_type": "markdown",
   "id": "54f0deba",
   "metadata": {},
   "source": [
    "### Polynomial Lasso Regression with Standardization (Degree 3)"
   ]
  },
  {
   "cell_type": "code",
   "execution_count": 13,
   "id": "da85507d",
   "metadata": {},
   "outputs": [
    {
     "name": "stdout",
     "output_type": "stream",
     "text": [
      "mse with polynomial lasso regression and standardization: 33.02069473374429\n",
      "accuracy: 88.76%\n"
     ]
    }
   ],
   "source": [
    "std_scaler = StandardScaler()\n",
    "x_train_std, x_test_std = std_scaler.fit_transform(x_train), std_scaler.fit_transform(x_test)\n",
    "xtrain_std_poly, xtest_std_poly = poly.fit_transform(x_train_std), poly.fit_transform(x_test_std)\n",
    "\n",
    "lasso_4 = Lasso(alpha=0.1)\n",
    "lasso_4.fit(xtrain_std_poly, y_train)\n",
    "y_pred_lasso_4 = lasso_4.predict(xtest_std_poly)\n",
    "mse_lasso_4 = mean_squared_error(y_test, y_pred_lasso_4)\n",
    "accuracy_lasso_4 = lasso_4.score(xtest_std_poly, y_test)\n",
    "print(f\"mse with polynomial lasso regression and standardization: {mse_lasso_4}\\naccuracy: {round(accuracy_lasso_4*100, 2)}%\")"
   ]
  },
  {
   "cell_type": "markdown",
   "id": "e48a0fac",
   "metadata": {},
   "source": [
    "### Polynomial Ridge Regression with Normalization (Degree 3)"
   ]
  },
  {
   "cell_type": "code",
   "execution_count": 14,
   "id": "b281be60",
   "metadata": {},
   "outputs": [
    {
     "name": "stdout",
     "output_type": "stream",
     "text": [
      "mse with polynomial ridge regression and normalization: 42.39674687263751\n",
      "accuracy: 85.57%\n"
     ]
    }
   ],
   "source": [
    "ridge_3 = Ridge(alpha=0.1)\n",
    "ridge_3.fit(xtrain_norm_poly, y_train)\n",
    "y_pred_ridge_3 = ridge_3.predict(xtest_norm_poly)\n",
    "mse_ridge_3 = mean_squared_error(y_test, y_pred_ridge_3)\n",
    "accuracy_ridge_3 = ridge_3.score(xtest_norm_poly, y_test)\n",
    "print(f\"mse with polynomial ridge regression and normalization: {mse_ridge_3}\\naccuracy: {round(accuracy_ridge_3*100, 2)}%\")"
   ]
  },
  {
   "cell_type": "markdown",
   "id": "417efed5",
   "metadata": {},
   "source": [
    "### Polynomial Ridge Regression with Standardization (Degree 3)"
   ]
  },
  {
   "cell_type": "code",
   "execution_count": 15,
   "id": "a86c2372",
   "metadata": {},
   "outputs": [
    {
     "name": "stdout",
     "output_type": "stream",
     "text": [
      "mse with polynomial ridge regression and standardization: 632.5689474572594\n",
      "accuracy: -115.37%\n"
     ]
    }
   ],
   "source": [
    "ridge_4 = Ridge(alpha=0.1)\n",
    "ridge_4.fit(xtrain_std_poly, y_train)\n",
    "y_pred_ridge_4 = ridge_4.predict(xtest_std_poly)\n",
    "mse_ridge_4 = mean_squared_error(y_test, y_pred_ridge_4)\n",
    "accuracy_ridge_4 = ridge_4.score(xtest_std_poly, y_test)\n",
    "print(f\"mse with polynomial ridge regression and standardization: {mse_ridge_4}\\naccuracy: {round(accuracy_ridge_4*100, 2)}%\")"
   ]
  },
  {
   "cell_type": "markdown",
   "id": "3f214e09",
   "metadata": {},
   "source": [
    "<strong>Polynomial Regression (Degree 3)</strong> is the optimal model for this Dataset with an MSE of <strong>29.51</strong> and <strong>89.95%</strong> accuracy"
   ]
  },
  {
   "cell_type": "code",
   "execution_count": 18,
   "id": "085ba9af",
   "metadata": {},
   "outputs": [
    {
     "data": {
      "text/plain": [
       "29.50939296073279"
      ]
     },
     "execution_count": 18,
     "metadata": {},
     "output_type": "execute_result"
    }
   ],
   "source": [
    "df_result = pd.DataFrame({'Strength': y_test, 'Predicted Strength': y_pred_poly})\n",
    "df_result['Error(%)'] = round((abs(df_result['Strength']-df_test['Predicted Strength'])/df_test['Strength'])*100, 2)"
   ]
  },
  {
   "cell_type": "code",
   "execution_count": null,
   "id": "408e792a",
   "metadata": {},
   "outputs": [],
   "source": []
  }
 ],
 "metadata": {
  "kernelspec": {
   "display_name": "Python 3 (ipykernel)",
   "language": "python",
   "name": "python3"
  },
  "language_info": {
   "codemirror_mode": {
    "name": "ipython",
    "version": 3
   },
   "file_extension": ".py",
   "mimetype": "text/x-python",
   "name": "python",
   "nbconvert_exporter": "python",
   "pygments_lexer": "ipython3",
   "version": "3.11.5"
  }
 },
 "nbformat": 4,
 "nbformat_minor": 5
}
